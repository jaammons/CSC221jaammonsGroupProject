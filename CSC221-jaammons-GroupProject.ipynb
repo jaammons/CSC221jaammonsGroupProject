import urllib.request
from bs4 import BeautifulSoup

url = "https://en.wikipedia.org/wiki/FIFA_World_Cup"
with urllib.request.urlopen(url) as response:
    page = response.read()
    
soup = BeautifulSoup(page, 'lxml')

print(soup.prettify())
